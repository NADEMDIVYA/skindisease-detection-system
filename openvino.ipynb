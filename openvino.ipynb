{
 "cells": [
  {
   "cell_type": "code",
   "execution_count": 2,
   "metadata": {},
   "outputs": [
    {
     "name": "stdout",
     "output_type": "stream",
     "text": [
      "[ INFO ] MO command line tool is considered as the legacy conversion API as of OpenVINO 2023.2 release.\n",
      "In 2025.0 MO command line tool and openvino.tools.mo.convert_model() will be removed. Please use OpenVINO Model Converter (OVC) or openvino.convert_model(). OVC represents a lightweight alternative of MO and provides simplified model conversion API. \n",
      "Find more information about transition from MO to OVC at https://docs.openvino.ai/2023.2/openvino_docs_OV_Converter_UG_prepare_model_convert_model_MO_OVC_transition.html\n",
      "WARNING:tensorflow:From c:\\Users\\divya\\AppData\\Local\\Programs\\Python\\Python311\\Lib\\site-packages\\openvino\\frontend\\tensorflow\\utils.py:409: The name tf.GraphDef is deprecated. Please use tf.compat.v1.GraphDef instead.\n",
      "\n"
     ]
    },
    {
     "name": "stderr",
     "output_type": "stream",
     "text": [
      "[ WARNING ]  From %s: The name %s is deprecated. Please use %s instead.\n",
      "\n"
     ]
    },
    {
     "name": "stdout",
     "output_type": "stream",
     "text": [
      "✅ OpenVINO IR model successfully saved at: openvino_model/best_skin_model.xml\n"
     ]
    }
   ],
   "source": [
    "import tensorflow as tf\n",
    "import os\n",
    "from openvino.tools.mo import convert_model\n",
    "from openvino.runtime import Core\n",
    "\n",
    "# ✅ Path to your trained Keras model\n",
    "model_path = \"best_skin_model.keras\"\n",
    "\n",
    "# ✅ Load the model (TensorFlow 2.16.1 recommended)\n",
    "model = tf.keras.models.load_model(model_path)\n",
    "\n",
    "# ✅ Define input shape (MobileNetV2 expects [1, 224, 224, 3])\n",
    "example_input = tf.ones([1, 224, 224, 3], dtype=tf.float32)\n",
    "\n",
    "# ✅ Convert to OpenVINO IR format with FP16 precision\n",
    "# Here we are using the MO tool to convert the model. It converts the model to IR format (XML and BIN).\n",
    "output_dir = \"openvino_model\"\n",
    "os.makedirs(output_dir, exist_ok=True)\n",
    "\n",
    "# Convert the model using the OpenVINO Model Optimizer (MO)\n",
    "convert_model(model,\n",
    "              output_dir=output_dir,\n",
    "              model_name=\"best_skin_model\",\n",
    "              compress_to_fp16=True)\n",
    "\n",
    "# ✅ After conversion, the files `best_skin_model.xml` and `best_skin_model.bin` will be in the `openvino_model` directory\n",
    "\n",
    "print(f\"✅ OpenVINO IR model successfully saved at: {output_dir}/best_skin_model.xml\")\n"
   ]
  },
  {
   "cell_type": "code",
   "execution_count": null,
   "metadata": {},
   "outputs": [],
   "source": []
  }
 ],
 "metadata": {
  "kernelspec": {
   "display_name": "Python 3",
   "language": "python",
   "name": "python3"
  },
  "language_info": {
   "codemirror_mode": {
    "name": "ipython",
    "version": 3
   },
   "file_extension": ".py",
   "mimetype": "text/x-python",
   "name": "python",
   "nbconvert_exporter": "python",
   "pygments_lexer": "ipython3",
   "version": "3.11.9"
  }
 },
 "nbformat": 4,
 "nbformat_minor": 2
}
